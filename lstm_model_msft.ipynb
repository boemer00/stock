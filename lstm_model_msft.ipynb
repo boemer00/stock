{
  "nbformat": 4,
  "nbformat_minor": 0,
  "metadata": {
    "colab": {
      "provenance": [],
      "authorship_tag": "ABX9TyOEniZEJn0SjEaAbuuA0MNE",
      "include_colab_link": true
    },
    "kernelspec": {
      "name": "python3",
      "display_name": "Python 3"
    },
    "language_info": {
      "name": "python"
    }
  },
  "cells": [
    {
      "cell_type": "markdown",
      "metadata": {
        "id": "view-in-github",
        "colab_type": "text"
      },
      "source": [
        "<a href=\"https://colab.research.google.com/github/boemer00/stock/blob/main/lstm_model_msft.ipynb\" target=\"_parent\"><img src=\"https://colab.research.google.com/assets/colab-badge.svg\" alt=\"Open In Colab\"/></a>"
      ]
    },
    {
      "cell_type": "code",
      "execution_count": 1,
      "metadata": {
        "id": "3nEJ4Db1rs-u"
      },
      "outputs": [],
      "source": [
        "# !pip install --upgrade pandas\n",
        "# !pip install --upgrade pandas_datareader"
      ]
    },
    {
      "cell_type": "code",
      "source": [
        "import math\n",
        "import pandas as pd\n",
        "import numpy as np\n",
        "import matplotlib.pyplot as plt\n",
        "\n",
        "import pandas_datareader as web\n",
        "\n",
        "from sklearn.preprocessing import MinMaxScaler\n",
        "\n",
        "from keras.models import Sequential\n",
        "from keras.layers import Dense, LSTM"
      ],
      "metadata": {
        "id": "tCVYjmxtry2g"
      },
      "execution_count": 2,
      "outputs": []
    },
    {
      "cell_type": "code",
      "source": [
        "df = web.DataReader('MSFT',\n",
        "                    data_source='yahoo',\n",
        "                    start='2013-01-01',\n",
        "                    end='2022-12-13')"
      ],
      "metadata": {
        "id": "owYKBpdlr3UR"
      },
      "execution_count": 14,
      "outputs": []
    },
    {
      "cell_type": "code",
      "source": [
        "df = df[['Close']].tail(1000)\n",
        "df = df.set_index(pd.to_datetime(df.index))\n",
        "\n",
        "df.tail()"
      ],
      "metadata": {
        "colab": {
          "base_uri": "https://localhost:8080/",
          "height": 238
        },
        "id": "kli-BchotE4b",
        "outputId": "38a6fe32-7ad4-46fd-9638-5e4560f18b9a"
      },
      "execution_count": 15,
      "outputs": [
        {
          "output_type": "execute_result",
          "data": {
            "text/plain": [
              "                 Close\n",
              "Date                  \n",
              "2022-12-07  244.369995\n",
              "2022-12-08  247.399994\n",
              "2022-12-09  245.419998\n",
              "2022-12-12  252.509995\n",
              "2022-12-13  256.920013"
            ],
            "text/html": [
              "\n",
              "  <div id=\"df-8f269511-a703-4bd4-a1d8-6a5d1e271288\">\n",
              "    <div class=\"colab-df-container\">\n",
              "      <div>\n",
              "<style scoped>\n",
              "    .dataframe tbody tr th:only-of-type {\n",
              "        vertical-align: middle;\n",
              "    }\n",
              "\n",
              "    .dataframe tbody tr th {\n",
              "        vertical-align: top;\n",
              "    }\n",
              "\n",
              "    .dataframe thead th {\n",
              "        text-align: right;\n",
              "    }\n",
              "</style>\n",
              "<table border=\"1\" class=\"dataframe\">\n",
              "  <thead>\n",
              "    <tr style=\"text-align: right;\">\n",
              "      <th></th>\n",
              "      <th>Close</th>\n",
              "    </tr>\n",
              "    <tr>\n",
              "      <th>Date</th>\n",
              "      <th></th>\n",
              "    </tr>\n",
              "  </thead>\n",
              "  <tbody>\n",
              "    <tr>\n",
              "      <th>2022-12-07</th>\n",
              "      <td>244.369995</td>\n",
              "    </tr>\n",
              "    <tr>\n",
              "      <th>2022-12-08</th>\n",
              "      <td>247.399994</td>\n",
              "    </tr>\n",
              "    <tr>\n",
              "      <th>2022-12-09</th>\n",
              "      <td>245.419998</td>\n",
              "    </tr>\n",
              "    <tr>\n",
              "      <th>2022-12-12</th>\n",
              "      <td>252.509995</td>\n",
              "    </tr>\n",
              "    <tr>\n",
              "      <th>2022-12-13</th>\n",
              "      <td>256.920013</td>\n",
              "    </tr>\n",
              "  </tbody>\n",
              "</table>\n",
              "</div>\n",
              "      <button class=\"colab-df-convert\" onclick=\"convertToInteractive('df-8f269511-a703-4bd4-a1d8-6a5d1e271288')\"\n",
              "              title=\"Convert this dataframe to an interactive table.\"\n",
              "              style=\"display:none;\">\n",
              "        \n",
              "  <svg xmlns=\"http://www.w3.org/2000/svg\" height=\"24px\"viewBox=\"0 0 24 24\"\n",
              "       width=\"24px\">\n",
              "    <path d=\"M0 0h24v24H0V0z\" fill=\"none\"/>\n",
              "    <path d=\"M18.56 5.44l.94 2.06.94-2.06 2.06-.94-2.06-.94-.94-2.06-.94 2.06-2.06.94zm-11 1L8.5 8.5l.94-2.06 2.06-.94-2.06-.94L8.5 2.5l-.94 2.06-2.06.94zm10 10l.94 2.06.94-2.06 2.06-.94-2.06-.94-.94-2.06-.94 2.06-2.06.94z\"/><path d=\"M17.41 7.96l-1.37-1.37c-.4-.4-.92-.59-1.43-.59-.52 0-1.04.2-1.43.59L10.3 9.45l-7.72 7.72c-.78.78-.78 2.05 0 2.83L4 21.41c.39.39.9.59 1.41.59.51 0 1.02-.2 1.41-.59l7.78-7.78 2.81-2.81c.8-.78.8-2.07 0-2.86zM5.41 20L4 18.59l7.72-7.72 1.47 1.35L5.41 20z\"/>\n",
              "  </svg>\n",
              "      </button>\n",
              "      \n",
              "  <style>\n",
              "    .colab-df-container {\n",
              "      display:flex;\n",
              "      flex-wrap:wrap;\n",
              "      gap: 12px;\n",
              "    }\n",
              "\n",
              "    .colab-df-convert {\n",
              "      background-color: #E8F0FE;\n",
              "      border: none;\n",
              "      border-radius: 50%;\n",
              "      cursor: pointer;\n",
              "      display: none;\n",
              "      fill: #1967D2;\n",
              "      height: 32px;\n",
              "      padding: 0 0 0 0;\n",
              "      width: 32px;\n",
              "    }\n",
              "\n",
              "    .colab-df-convert:hover {\n",
              "      background-color: #E2EBFA;\n",
              "      box-shadow: 0px 1px 2px rgba(60, 64, 67, 0.3), 0px 1px 3px 1px rgba(60, 64, 67, 0.15);\n",
              "      fill: #174EA6;\n",
              "    }\n",
              "\n",
              "    [theme=dark] .colab-df-convert {\n",
              "      background-color: #3B4455;\n",
              "      fill: #D2E3FC;\n",
              "    }\n",
              "\n",
              "    [theme=dark] .colab-df-convert:hover {\n",
              "      background-color: #434B5C;\n",
              "      box-shadow: 0px 1px 3px 1px rgba(0, 0, 0, 0.15);\n",
              "      filter: drop-shadow(0px 1px 2px rgba(0, 0, 0, 0.3));\n",
              "      fill: #FFFFFF;\n",
              "    }\n",
              "  </style>\n",
              "\n",
              "      <script>\n",
              "        const buttonEl =\n",
              "          document.querySelector('#df-8f269511-a703-4bd4-a1d8-6a5d1e271288 button.colab-df-convert');\n",
              "        buttonEl.style.display =\n",
              "          google.colab.kernel.accessAllowed ? 'block' : 'none';\n",
              "\n",
              "        async function convertToInteractive(key) {\n",
              "          const element = document.querySelector('#df-8f269511-a703-4bd4-a1d8-6a5d1e271288');\n",
              "          const dataTable =\n",
              "            await google.colab.kernel.invokeFunction('convertToInteractive',\n",
              "                                                     [key], {});\n",
              "          if (!dataTable) return;\n",
              "\n",
              "          const docLinkHtml = 'Like what you see? Visit the ' +\n",
              "            '<a target=\"_blank\" href=https://colab.research.google.com/notebooks/data_table.ipynb>data table notebook</a>'\n",
              "            + ' to learn more about interactive tables.';\n",
              "          element.innerHTML = '';\n",
              "          dataTable['output_type'] = 'display_data';\n",
              "          await google.colab.output.renderOutput(dataTable, element);\n",
              "          const docLink = document.createElement('div');\n",
              "          docLink.innerHTML = docLinkHtml;\n",
              "          element.appendChild(docLink);\n",
              "        }\n",
              "      </script>\n",
              "    </div>\n",
              "  </div>\n",
              "  "
            ]
          },
          "metadata": {},
          "execution_count": 15
        }
      ]
    },
    {
      "cell_type": "code",
      "source": [
        "# scale the data\n",
        "scaler = MinMaxScaler(feature_range=(0,1))\n",
        "df = pd.DataFrame(scaler.fit_transform(df), columns=df.columns, index=df.index)"
      ],
      "metadata": {
        "id": "rO5Omj08sSYA"
      },
      "execution_count": 16,
      "outputs": []
    },
    {
      "cell_type": "code",
      "source": [
        "df.head()"
      ],
      "metadata": {
        "colab": {
          "base_uri": "https://localhost:8080/",
          "height": 238
        },
        "id": "kspRTtn0s0VL",
        "outputId": "d656b701-330c-4387-b858-962d8c9f3256"
      },
      "execution_count": 17,
      "outputs": [
        {
          "output_type": "execute_result",
          "data": {
            "text/plain": [
              "               Close\n",
              "Date                \n",
              "2018-12-26  0.012861\n",
              "2018-12-27  0.015384\n",
              "2018-12-28  0.012169\n",
              "2018-12-31  0.016971\n",
              "2019-01-02  0.015140"
            ],
            "text/html": [
              "\n",
              "  <div id=\"df-de602214-1502-48d4-bd98-91cd31694e67\">\n",
              "    <div class=\"colab-df-container\">\n",
              "      <div>\n",
              "<style scoped>\n",
              "    .dataframe tbody tr th:only-of-type {\n",
              "        vertical-align: middle;\n",
              "    }\n",
              "\n",
              "    .dataframe tbody tr th {\n",
              "        vertical-align: top;\n",
              "    }\n",
              "\n",
              "    .dataframe thead th {\n",
              "        text-align: right;\n",
              "    }\n",
              "</style>\n",
              "<table border=\"1\" class=\"dataframe\">\n",
              "  <thead>\n",
              "    <tr style=\"text-align: right;\">\n",
              "      <th></th>\n",
              "      <th>Close</th>\n",
              "    </tr>\n",
              "    <tr>\n",
              "      <th>Date</th>\n",
              "      <th></th>\n",
              "    </tr>\n",
              "  </thead>\n",
              "  <tbody>\n",
              "    <tr>\n",
              "      <th>2018-12-26</th>\n",
              "      <td>0.012861</td>\n",
              "    </tr>\n",
              "    <tr>\n",
              "      <th>2018-12-27</th>\n",
              "      <td>0.015384</td>\n",
              "    </tr>\n",
              "    <tr>\n",
              "      <th>2018-12-28</th>\n",
              "      <td>0.012169</td>\n",
              "    </tr>\n",
              "    <tr>\n",
              "      <th>2018-12-31</th>\n",
              "      <td>0.016971</td>\n",
              "    </tr>\n",
              "    <tr>\n",
              "      <th>2019-01-02</th>\n",
              "      <td>0.015140</td>\n",
              "    </tr>\n",
              "  </tbody>\n",
              "</table>\n",
              "</div>\n",
              "      <button class=\"colab-df-convert\" onclick=\"convertToInteractive('df-de602214-1502-48d4-bd98-91cd31694e67')\"\n",
              "              title=\"Convert this dataframe to an interactive table.\"\n",
              "              style=\"display:none;\">\n",
              "        \n",
              "  <svg xmlns=\"http://www.w3.org/2000/svg\" height=\"24px\"viewBox=\"0 0 24 24\"\n",
              "       width=\"24px\">\n",
              "    <path d=\"M0 0h24v24H0V0z\" fill=\"none\"/>\n",
              "    <path d=\"M18.56 5.44l.94 2.06.94-2.06 2.06-.94-2.06-.94-.94-2.06-.94 2.06-2.06.94zm-11 1L8.5 8.5l.94-2.06 2.06-.94-2.06-.94L8.5 2.5l-.94 2.06-2.06.94zm10 10l.94 2.06.94-2.06 2.06-.94-2.06-.94-.94-2.06-.94 2.06-2.06.94z\"/><path d=\"M17.41 7.96l-1.37-1.37c-.4-.4-.92-.59-1.43-.59-.52 0-1.04.2-1.43.59L10.3 9.45l-7.72 7.72c-.78.78-.78 2.05 0 2.83L4 21.41c.39.39.9.59 1.41.59.51 0 1.02-.2 1.41-.59l7.78-7.78 2.81-2.81c.8-.78.8-2.07 0-2.86zM5.41 20L4 18.59l7.72-7.72 1.47 1.35L5.41 20z\"/>\n",
              "  </svg>\n",
              "      </button>\n",
              "      \n",
              "  <style>\n",
              "    .colab-df-container {\n",
              "      display:flex;\n",
              "      flex-wrap:wrap;\n",
              "      gap: 12px;\n",
              "    }\n",
              "\n",
              "    .colab-df-convert {\n",
              "      background-color: #E8F0FE;\n",
              "      border: none;\n",
              "      border-radius: 50%;\n",
              "      cursor: pointer;\n",
              "      display: none;\n",
              "      fill: #1967D2;\n",
              "      height: 32px;\n",
              "      padding: 0 0 0 0;\n",
              "      width: 32px;\n",
              "    }\n",
              "\n",
              "    .colab-df-convert:hover {\n",
              "      background-color: #E2EBFA;\n",
              "      box-shadow: 0px 1px 2px rgba(60, 64, 67, 0.3), 0px 1px 3px 1px rgba(60, 64, 67, 0.15);\n",
              "      fill: #174EA6;\n",
              "    }\n",
              "\n",
              "    [theme=dark] .colab-df-convert {\n",
              "      background-color: #3B4455;\n",
              "      fill: #D2E3FC;\n",
              "    }\n",
              "\n",
              "    [theme=dark] .colab-df-convert:hover {\n",
              "      background-color: #434B5C;\n",
              "      box-shadow: 0px 1px 3px 1px rgba(0, 0, 0, 0.15);\n",
              "      filter: drop-shadow(0px 1px 2px rgba(0, 0, 0, 0.3));\n",
              "      fill: #FFFFFF;\n",
              "    }\n",
              "  </style>\n",
              "\n",
              "      <script>\n",
              "        const buttonEl =\n",
              "          document.querySelector('#df-de602214-1502-48d4-bd98-91cd31694e67 button.colab-df-convert');\n",
              "        buttonEl.style.display =\n",
              "          google.colab.kernel.accessAllowed ? 'block' : 'none';\n",
              "\n",
              "        async function convertToInteractive(key) {\n",
              "          const element = document.querySelector('#df-de602214-1502-48d4-bd98-91cd31694e67');\n",
              "          const dataTable =\n",
              "            await google.colab.kernel.invokeFunction('convertToInteractive',\n",
              "                                                     [key], {});\n",
              "          if (!dataTable) return;\n",
              "\n",
              "          const docLinkHtml = 'Like what you see? Visit the ' +\n",
              "            '<a target=\"_blank\" href=https://colab.research.google.com/notebooks/data_table.ipynb>data table notebook</a>'\n",
              "            + ' to learn more about interactive tables.';\n",
              "          element.innerHTML = '';\n",
              "          dataTable['output_type'] = 'display_data';\n",
              "          await google.colab.output.renderOutput(dataTable, element);\n",
              "          const docLink = document.createElement('div');\n",
              "          docLink.innerHTML = docLinkHtml;\n",
              "          element.appendChild(docLink);\n",
              "        }\n",
              "      </script>\n",
              "    </div>\n",
              "  </div>\n",
              "  "
            ]
          },
          "metadata": {},
          "execution_count": 17
        }
      ]
    },
    {
      "cell_type": "code",
      "source": [
        "df.plot(figsize=(10,6))\n",
        "plt.title('SP&500 prices')\n",
        "plt.ylabel('normalised prices')\n",
        "plt.show()"
      ],
      "metadata": {
        "colab": {
          "base_uri": "https://localhost:8080/",
          "height": 391
        },
        "id": "yAVBv9UNs2-n",
        "outputId": "1fab75e6-1e44-4d17-fd85-5d1d94c55266"
      },
      "execution_count": 18,
      "outputs": [
        {
          "output_type": "display_data",
          "data": {
            "text/plain": [
              "<Figure size 720x432 with 1 Axes>"
            ],
            "image/png": "[encoded data removed]"
          },
          "metadata": {
            "needs_background": "light"
          }
        }
      ]
    },
    {
      "cell_type": "code",
      "source": [
        "def split_sequences(seq, n_steps_in, n_steps_out):\n",
        "    X = []\n",
        "    y = []\n",
        "    \n",
        "    for i in range(len(seq)):\n",
        "        end = i+n_steps_in\n",
        "        out_end = end+ n_steps_out\n",
        "        \n",
        "        if out_end > len(seq):\n",
        "            break\n",
        "            \n",
        "        seq_x, seq_y = seq[i:end], seq[end:out_end]\n",
        "        \n",
        "        X.append(seq_x)\n",
        "        y.append(seq_y)\n",
        "    \n",
        "    return np.array(X), np.array(y)"
      ],
      "metadata": {
        "id": "MTS-pqYQtvnU"
      },
      "execution_count": 19,
      "outputs": []
    },
    {
      "cell_type": "code",
      "source": [
        "def plot_results(results):\n",
        "    history = results.history\n",
        "    plt.figure(figsize=(12,4))\n",
        "    plt.plot(history['val_loss'])\n",
        "    plt.plot(history['loss'])\n",
        "    plt.legend(['val_loss', 'loss'])\n",
        "    plt.title('Loss')\n",
        "    plt.xlabel('epochs')\n",
        "    plt.ylabel('loss')\n",
        "    plt.show()\n",
        "    \n",
        "    plt.figure(figsize=(12,4))\n",
        "    plt.plot(history['val_accuracy'])\n",
        "    plt.plot(history['accuracy'])\n",
        "    plt.legend(['val_accuracy','accuracy'])\n",
        "    plt.title('Accuracy')\n",
        "    plt.xlabel('epochs')\n",
        "    plt.ylabel('accuracy')\n",
        "    plt.show()"
      ],
      "metadata": {
        "id": "CE-GzkEjuAVK"
      },
      "execution_count": 20,
      "outputs": []
    },
    {
      "cell_type": "code",
      "source": [
        "n_per_in = 60   # 30 days past\n",
        "n_per_out = 10  # 10 days predictions\n",
        "\n",
        "n_features = 1  # 1 feature (price)\n",
        "\n",
        "X, y = split_sequences(list(df['Close']), n_per_in, n_per_out)\n",
        "\n",
        "print(X.shape)\n",
        "\n",
        "X = X.reshape(X.shape[0], X.shape[1], n_features)\n",
        "\n",
        "print(X.shape)\n",
        "print(y.shape)"
      ],
      "metadata": {
        "colab": {
          "base_uri": "https://localhost:8080/"
        },
        "id": "GM00TKNLuJ4z",
        "outputId": "edaa2408-5484-447d-99cd-c79a3e2e4fdf"
      },
      "execution_count": 21,
      "outputs": [
        {
          "output_type": "stream",
          "name": "stdout",
          "text": [
            "(961, 30)\n",
            "(961, 30, 1)\n",
            "(961, 10)\n"
          ]
        }
      ]
    },
    {
      "cell_type": "code",
      "source": [
        "model = Sequential()\n",
        "model.add(LSTM(30, activation='softsign', return_sequences=True, input_shape=(n_per_in, n_features)))\n",
        "model.add(LSTM(20, activation='softsign', return_sequences=True))\n",
        "model.add(LSTM(10, activation='softsign', return_sequences=True))\n",
        "model.add(LSTM(10, activation='softsign', return_sequences=True))\n",
        "model.add(LSTM(10, activation='softsign', return_sequences=True))\n",
        "model.add(LSTM(10, activation='softsign'))\n",
        "model.add(Dense(n_per_out))\n",
        "\n",
        "model.summary()"
      ],
      "metadata": {
        "colab": {
          "base_uri": "https://localhost:8080/"
        },
        "id": "Ux0G9cQUug6S",
        "outputId": "ac502ac1-af4d-46ab-f61c-0da1b5202b8c"
      },
      "execution_count": 22,
      "outputs": [
        {
          "output_type": "stream",
          "name": "stdout",
          "text": [
            "Model: \"sequential_1\"\n",
            "_________________________________________________________________\n",
            " Layer (type)                Output Shape              Param #   \n",
            "=================================================================\n",
            " lstm_6 (LSTM)               (None, 30, 30)            3840      \n",
            "                                                                 \n",
            " lstm_7 (LSTM)               (None, 30, 20)            4080      \n",
            "                                                                 \n",
            " lstm_8 (LSTM)               (None, 30, 10)            1240      \n",
            "                                                                 \n",
            " lstm_9 (LSTM)               (None, 30, 10)            840       \n",
            "                                                                 \n",
            " lstm_10 (LSTM)              (None, 30, 10)            840       \n",
            "                                                                 \n",
            " lstm_11 (LSTM)              (None, 10)                840       \n",
            "                                                                 \n",
            " dense_1 (Dense)             (None, 10)                110       \n",
            "                                                                 \n",
            "=================================================================\n",
            "Total params: 11,790\n",
            "Trainable params: 11,790\n",
            "Non-trainable params: 0\n",
            "_________________________________________________________________\n"
          ]
        }
      ]
    },
    {
      "cell_type": "code",
      "source": [
        "# compile\n",
        "model.compile(optimizer='adam', loss='mean_squared_error', metrics=['accuracy'])\n",
        "\n",
        "# train\n",
        "res = model.fit(X, y, batch_size=32, epochs=50)"
      ],
      "metadata": {
        "colab": {
          "base_uri": "https://localhost:8080/"
        },
        "id": "NsYqz6rfurQH",
        "outputId": "49213a24-1441-4d3f-b4f1-273d8c8dc48d"
      },
      "execution_count": 24,
      "outputs": [
        {
          "output_type": "stream",
          "name": "stdout",
          "text": [
            "Epoch 1/50\n",
            "31/31 [==============================] - 10s 72ms/step - loss: 0.0904 - accuracy: 0.0687\n",
            "Epoch 2/50\n",
            "31/31 [==============================] - 2s 72ms/step - loss: 0.0433 - accuracy: 0.0947\n",
            "Epoch 3/50\n",
            "31/31 [==============================] - 2s 73ms/step - loss: 0.0096 - accuracy: 0.0822\n",
            "Epoch 4/50\n",
            "31/31 [==============================] - 2s 72ms/step - loss: 0.0060 - accuracy: 0.0812\n",
            "Epoch 5/50\n",
            "31/31 [==============================] - 2s 71ms/step - loss: 0.0054 - accuracy: 0.0832\n",
            "Epoch 6/50\n",
            "31/31 [==============================] - 2s 71ms/step - loss: 0.0058 - accuracy: 0.0812\n",
            "Epoch 7/50\n",
            "31/31 [==============================] - 2s 71ms/step - loss: 0.0046 - accuracy: 0.0739\n",
            "Epoch 8/50\n",
            "31/31 [==============================] - 2s 75ms/step - loss: 0.0047 - accuracy: 0.0687\n",
            "Epoch 9/50\n",
            "31/31 [==============================] - 2s 71ms/step - loss: 0.0051 - accuracy: 0.0853\n",
            "Epoch 10/50\n",
            "31/31 [==============================] - 2s 73ms/step - loss: 0.0042 - accuracy: 0.0780\n",
            "Epoch 11/50\n",
            "31/31 [==============================] - 2s 72ms/step - loss: 0.0041 - accuracy: 0.1051\n",
            "Epoch 12/50\n",
            "31/31 [==============================] - 2s 72ms/step - loss: 0.0039 - accuracy: 0.0884\n",
            "Epoch 13/50\n",
            "31/31 [==============================] - 2s 71ms/step - loss: 0.0037 - accuracy: 0.1134\n",
            "Epoch 14/50\n",
            "31/31 [==============================] - 2s 72ms/step - loss: 0.0038 - accuracy: 0.1020\n",
            "Epoch 15/50\n",
            "31/31 [==============================] - 2s 73ms/step - loss: 0.0037 - accuracy: 0.1103\n",
            "Epoch 16/50\n",
            "31/31 [==============================] - 2s 72ms/step - loss: 0.0036 - accuracy: 0.1020\n",
            "Epoch 17/50\n",
            "31/31 [==============================] - 2s 71ms/step - loss: 0.0036 - accuracy: 0.1134\n",
            "Epoch 18/50\n",
            "31/31 [==============================] - 2s 71ms/step - loss: 0.0035 - accuracy: 0.1072\n",
            "Epoch 19/50\n",
            "31/31 [==============================] - 2s 72ms/step - loss: 0.0033 - accuracy: 0.1374\n",
            "Epoch 20/50\n",
            "31/31 [==============================] - 2s 71ms/step - loss: 0.0033 - accuracy: 0.1155\n",
            "Epoch 21/50\n",
            "31/31 [==============================] - 2s 73ms/step - loss: 0.0031 - accuracy: 0.1426\n",
            "Epoch 22/50\n",
            "31/31 [==============================] - 2s 71ms/step - loss: 0.0037 - accuracy: 0.1155\n",
            "Epoch 23/50\n",
            "31/31 [==============================] - 2s 71ms/step - loss: 0.0030 - accuracy: 0.1342\n",
            "Epoch 24/50\n",
            "31/31 [==============================] - 2s 72ms/step - loss: 0.0031 - accuracy: 0.1353\n",
            "Epoch 25/50\n",
            "31/31 [==============================] - 2s 71ms/step - loss: 0.0031 - accuracy: 0.1561\n",
            "Epoch 26/50\n",
            "31/31 [==============================] - 2s 72ms/step - loss: 0.0031 - accuracy: 0.1883\n",
            "Epoch 27/50\n",
            "31/31 [==============================] - 2s 72ms/step - loss: 0.0030 - accuracy: 0.1519\n",
            "Epoch 28/50\n",
            "31/31 [==============================] - 2s 70ms/step - loss: 0.0032 - accuracy: 0.1602\n",
            "Epoch 29/50\n",
            "31/31 [==============================] - 2s 71ms/step - loss: 0.0029 - accuracy: 0.1769\n",
            "Epoch 30/50\n",
            "31/31 [==============================] - 2s 72ms/step - loss: 0.0033 - accuracy: 0.1550\n",
            "Epoch 31/50\n",
            "31/31 [==============================] - 2s 72ms/step - loss: 0.0031 - accuracy: 0.1925\n",
            "Epoch 32/50\n",
            "31/31 [==============================] - 2s 71ms/step - loss: 0.0031 - accuracy: 0.1665\n",
            "Epoch 33/50\n",
            "31/31 [==============================] - 2s 71ms/step - loss: 0.0029 - accuracy: 0.1634\n",
            "Epoch 34/50\n",
            "31/31 [==============================] - 2s 71ms/step - loss: 0.0029 - accuracy: 0.1602\n",
            "Epoch 35/50\n",
            "31/31 [==============================] - 3s 88ms/step - loss: 0.0032 - accuracy: 0.1623\n",
            "Epoch 36/50\n",
            "31/31 [==============================] - 2s 72ms/step - loss: 0.0027 - accuracy: 0.1582\n",
            "Epoch 37/50\n",
            "31/31 [==============================] - 2s 72ms/step - loss: 0.0032 - accuracy: 0.1342\n",
            "Epoch 38/50\n",
            "31/31 [==============================] - 2s 72ms/step - loss: 0.0026 - accuracy: 0.1478\n",
            "Epoch 39/50\n",
            "31/31 [==============================] - 2s 71ms/step - loss: 0.0027 - accuracy: 0.2029\n",
            "Epoch 40/50\n",
            "31/31 [==============================] - 2s 72ms/step - loss: 0.0027 - accuracy: 0.1707\n",
            "Epoch 41/50\n",
            "31/31 [==============================] - 2s 71ms/step - loss: 0.0031 - accuracy: 0.1748\n",
            "Epoch 42/50\n",
            "31/31 [==============================] - 2s 72ms/step - loss: 0.0025 - accuracy: 0.1592\n",
            "Epoch 43/50\n",
            "31/31 [==============================] - 2s 72ms/step - loss: 0.0025 - accuracy: 0.1613\n",
            "Epoch 44/50\n",
            "31/31 [==============================] - 2s 72ms/step - loss: 0.0026 - accuracy: 0.1342\n",
            "Epoch 45/50\n",
            "31/31 [==============================] - 2s 72ms/step - loss: 0.0029 - accuracy: 0.1686\n",
            "Epoch 46/50\n",
            "31/31 [==============================] - 2s 72ms/step - loss: 0.0026 - accuracy: 0.1322\n",
            "Epoch 47/50\n",
            "31/31 [==============================] - 2s 71ms/step - loss: 0.0025 - accuracy: 0.1717\n",
            "Epoch 48/50\n",
            "31/31 [==============================] - 2s 70ms/step - loss: 0.0025 - accuracy: 0.1540\n",
            "Epoch 49/50\n",
            "31/31 [==============================] - 2s 72ms/step - loss: 0.0024 - accuracy: 0.1821\n",
            "Epoch 50/50\n",
            "31/31 [==============================] - 2s 72ms/step - loss: 0.0024 - accuracy: 0.1550\n"
          ]
        }
      ]
    },
    {
      "cell_type": "code",
      "source": [
        "yhat = model.predict(np.array(df.tail(n_per_in)).reshape(1,n_per_in,n_features)).tolist()[0]\n",
        "yhat = scaler.inverse_transform(np.array(yhat).reshape(-1,1)).tolist()\n",
        "\n",
        "preds = pd.DataFrame(yhat, index=pd.date_range(start=df.index[-1], periods=len(yhat),freq='D'), columns=df.columns)\n",
        "\n",
        "print(preds)\n",
        "\n",
        "periods = 10\n",
        "\n",
        "actual = pd.DataFrame(scaler.inverse_transform(df[['Close']].tail(periods)), index = df.Close.tail(periods).index, columns = df.columns).append(preds.head(1))\n",
        "\n",
        "plt.figure(figsize=(12,4))\n",
        "plt.plot(actual, label='actuals')\n",
        "plt.plot(preds, label='predictions')\n",
        "plt.ylabel('price')\n",
        "plt.xlabel('dates')\n",
        "plt.title(f'forecasting the next {len(yhat)} days')\n",
        "plt.legend()\n",
        "plt.show()"
      ],
      "metadata": {
        "colab": {
          "base_uri": "https://localhost:8080/",
          "height": 565
        },
        "id": "-Hwo15SPvAtQ",
        "outputId": "3164ce7d-ad17-4ecf-ac9c-a00859e5b5d5"
      },
      "execution_count": 25,
      "outputs": [
        {
          "output_type": "stream",
          "name": "stdout",
          "text": [
            "1/1 [==============================] - 1s 894ms/step\n",
            "                 Close\n",
            "2022-12-13  250.979169\n",
            "2022-12-14  251.579706\n",
            "2022-12-15  251.555702\n",
            "2022-12-16  251.509188\n",
            "2022-12-17  251.288291\n",
            "2022-12-18  251.853181\n",
            "2022-12-19  252.165832\n",
            "2022-12-20  252.760144\n",
            "2022-12-21  252.106869\n",
            "2022-12-22  252.567176\n"
          ]
        },
        {
          "output_type": "stream",
          "name": "stderr",
          "text": [
            "<ipython-input-25-41c7c03edfa5>:10: FutureWarning: The frame.append method is deprecated and will be removed from pandas in a future version. Use pandas.concat instead.\n",
            "  actual = pd.DataFrame(scaler.inverse_transform(df[['Close']].tail(periods)), index = df.Close.tail(periods).index, columns = df.columns).append(preds.head(1))\n"
          ]
        },
        {
          "output_type": "display_data",
          "data": {
            "text/plain": [
              "<Figure size 864x288 with 1 Axes>"
            ],
            "image/png": "[encoded data removed]"
          },
          "metadata": {
            "needs_background": "light"
          }
        }
      ]
    },
    {
      "cell_type": "code",
      "source": [],
      "metadata": {
        "id": "Ro8KIRs2vHV9"
      },
      "execution_count": 13,
      "outputs": []
    }
  ]
}